{
 "cells": [
  {
   "cell_type": "markdown",
   "metadata": {},
   "source": [
    "# Sparkify Project Workspace\n",
    "This workspace contains a tiny subset (128MB) of the full dataset available (12GB). Feel free to use this workspace to build your project, or to explore a smaller subset with Spark before deploying your cluster on the cloud. Instructions for setting up your Spark cluster is included in the last lesson of the Extracurricular Spark Course content.\n",
    "\n",
    "You can follow the steps below to guide your data analysis and model building portion of this project."
   ]
  },
  {
   "cell_type": "code",
   "execution_count": 1,
   "metadata": {},
   "outputs": [],
   "source": [
    "# import libraries\n",
    "import numpy as np\n",
    "import pandas as pd\n",
    "import datetime\n",
    "import timeit\n",
    "import time\n",
    "\n",
    "from pyspark.sql import SparkSession\n",
    "from pyspark.sql.functions import isnan, count, when, col, desc, udf, sort_array, asc, avg\n",
    "from pyspark.sql.functions import sum as Fsum\n",
    "from pyspark.sql import functions as F\n",
    "from pyspark.sql.window import Window\n",
    "from pyspark.sql.types import IntegerType\n",
    "\n",
    "from pyspark.ml import Pipeline\n",
    "from pyspark.ml.tuning import CrossValidator, ParamGridBuilder\n",
    "from pyspark.ml.feature import CountVectorizer, Normalizer, StandardScaler, StringIndexer, VectorAssembler\n",
    "from pyspark.ml.classification import LogisticRegression, RandomForestClassifier, DecisionTreeClassifier, GBTClassifier\n",
    "from pyspark.ml.evaluation import MulticlassClassificationEvaluator\n",
    "\n",
    "\n",
    "%matplotlib inline\n",
    "import matplotlib.pyplot as plt\n",
    "import seaborn as sns"
   ]
  },
  {
   "cell_type": "code",
   "execution_count": 2,
   "metadata": {},
   "outputs": [],
   "source": [
    "# create a Spark session\n",
    "spark = SparkSession \\\n",
    "    .builder \\\n",
    "    .appName(\"Udacity_DSND_Capstone_Sparkify_project\") \\\n",
    "    .getOrCreate()"
   ]
  },
  {
   "cell_type": "code",
   "execution_count": 3,
   "metadata": {},
   "outputs": [
    {
     "data": {
      "text/plain": [
       "[('spark.driver.host', 'd67720d86921'),\n",
       " ('spark.rdd.compress', 'True'),\n",
       " ('spark.app.name', 'Udacity_DSND_Capstone_Sparkify_project'),\n",
       " ('spark.serializer.objectStreamReset', '100'),\n",
       " ('spark.master', 'local[*]'),\n",
       " ('spark.executor.id', 'driver'),\n",
       " ('spark.submit.deployMode', 'client'),\n",
       " ('spark.driver.port', '46579'),\n",
       " ('spark.ui.showConsoleProgress', 'true'),\n",
       " ('spark.app.id', 'local-1601562773562')]"
      ]
     },
     "execution_count": 3,
     "metadata": {},
     "output_type": "execute_result"
    }
   ],
   "source": [
    "spark.sparkContext.getConf().getAll()"
   ]
  },
  {
   "cell_type": "code",
   "execution_count": 4,
   "metadata": {},
   "outputs": [
    {
     "data": {
      "text/html": [
       "\n",
       "            <div>\n",
       "                <p><b>SparkSession - in-memory</b></p>\n",
       "                \n",
       "        <div>\n",
       "            <p><b>SparkContext</b></p>\n",
       "\n",
       "            <p><a href=\"http://d67720d86921:4040\">Spark UI</a></p>\n",
       "\n",
       "            <dl>\n",
       "              <dt>Version</dt>\n",
       "                <dd><code>v2.4.3</code></dd>\n",
       "              <dt>Master</dt>\n",
       "                <dd><code>local[*]</code></dd>\n",
       "              <dt>AppName</dt>\n",
       "                <dd><code>Udacity_DSND_Capstone_Sparkify_project</code></dd>\n",
       "            </dl>\n",
       "        </div>\n",
       "        \n",
       "            </div>\n",
       "        "
      ],
      "text/plain": [
       "<pyspark.sql.session.SparkSession at 0x7f6e98f39400>"
      ]
     },
     "execution_count": 4,
     "metadata": {},
     "output_type": "execute_result"
    }
   ],
   "source": [
    "spark"
   ]
  },
  {
   "cell_type": "markdown",
   "metadata": {},
   "source": [
    "# Load and Clean Dataset\n",
    "In this workspace, the mini-dataset file is `mini_sparkify_event_data.json`. Load and clean the dataset, checking for invalid or missing data - for example, records without userids or sessionids. "
   ]
  },
  {
   "cell_type": "code",
   "execution_count": 5,
   "metadata": {},
   "outputs": [
    {
     "name": "stdout",
     "output_type": "stream",
     "text": [
      "root\n",
      " |-- artist: string (nullable = true)\n",
      " |-- auth: string (nullable = true)\n",
      " |-- firstName: string (nullable = true)\n",
      " |-- gender: string (nullable = true)\n",
      " |-- itemInSession: long (nullable = true)\n",
      " |-- lastName: string (nullable = true)\n",
      " |-- length: double (nullable = true)\n",
      " |-- level: string (nullable = true)\n",
      " |-- location: string (nullable = true)\n",
      " |-- method: string (nullable = true)\n",
      " |-- page: string (nullable = true)\n",
      " |-- registration: long (nullable = true)\n",
      " |-- sessionId: long (nullable = true)\n",
      " |-- song: string (nullable = true)\n",
      " |-- status: long (nullable = true)\n",
      " |-- ts: long (nullable = true)\n",
      " |-- userAgent: string (nullable = true)\n",
      " |-- userId: string (nullable = true)\n",
      "\n"
     ]
    }
   ],
   "source": [
    "user_df = spark.read.json(\"mini_sparkify_event_data.json\")\n",
    "user_df.printSchema()"
   ]
  },
  {
   "cell_type": "code",
   "execution_count": 6,
   "metadata": {},
   "outputs": [
    {
     "data": {
      "text/plain": [
       "DataFrame[summary: string, artist: string, auth: string, firstName: string, gender: string, itemInSession: string, lastName: string, length: string, level: string, location: string, method: string, page: string, registration: string, sessionId: string, song: string, status: string, ts: string, userAgent: string, userId: string]"
      ]
     },
     "execution_count": 6,
     "metadata": {},
     "output_type": "execute_result"
    }
   ],
   "source": [
    "user_df.describe()"
   ]
  },
  {
   "cell_type": "code",
   "execution_count": 7,
   "metadata": {},
   "outputs": [
    {
     "name": "stdout",
     "output_type": "stream",
     "text": [
      "+----------------+---------+---------+------+-------------+--------+---------+-----+--------------------+------+--------+-------------+---------+--------------------+------+-------------+--------------------+------+\n",
      "|          artist|     auth|firstName|gender|itemInSession|lastName|   length|level|            location|method|    page| registration|sessionId|                song|status|           ts|           userAgent|userId|\n",
      "+----------------+---------+---------+------+-------------+--------+---------+-----+--------------------+------+--------+-------------+---------+--------------------+------+-------------+--------------------+------+\n",
      "|  Martha Tilston|Logged In|    Colin|     M|           50| Freeman|277.89016| paid|     Bakersfield, CA|   PUT|NextSong|1538173362000|       29|           Rockpools|   200|1538352117000|Mozilla/5.0 (Wind...|    30|\n",
      "|Five Iron Frenzy|Logged In|    Micah|     M|           79|    Long|236.09424| free|Boston-Cambridge-...|   PUT|NextSong|1538331630000|        8|              Canada|   200|1538352180000|\"Mozilla/5.0 (Win...|     9|\n",
      "|    Adam Lambert|Logged In|    Colin|     M|           51| Freeman| 282.8273| paid|     Bakersfield, CA|   PUT|NextSong|1538173362000|       29|   Time For Miracles|   200|1538352394000|Mozilla/5.0 (Wind...|    30|\n",
      "|          Enigma|Logged In|    Micah|     M|           80|    Long|262.71302| free|Boston-Cambridge-...|   PUT|NextSong|1538331630000|        8|Knocking On Forbi...|   200|1538352416000|\"Mozilla/5.0 (Win...|     9|\n",
      "|       Daft Punk|Logged In|    Colin|     M|           52| Freeman|223.60771| paid|     Bakersfield, CA|   PUT|NextSong|1538173362000|       29|Harder Better Fas...|   200|1538352676000|Mozilla/5.0 (Wind...|    30|\n",
      "+----------------+---------+---------+------+-------------+--------+---------+-----+--------------------+------+--------+-------------+---------+--------------------+------+-------------+--------------------+------+\n",
      "only showing top 5 rows\n",
      "\n"
     ]
    }
   ],
   "source": [
    "user_df.show(5)"
   ]
  },
  {
   "cell_type": "code",
   "execution_count": 8,
   "metadata": {},
   "outputs": [
    {
     "data": {
      "text/plain": [
       "286500"
      ]
     },
     "execution_count": 8,
     "metadata": {},
     "output_type": "execute_result"
    }
   ],
   "source": [
    "user_df.count()"
   ]
  },
  {
   "cell_type": "code",
   "execution_count": 9,
   "metadata": {},
   "outputs": [
    {
     "name": "stdout",
     "output_type": "stream",
     "text": [
      "+-------------------+\n",
      "|        blank_pages|\n",
      "+-------------------+\n",
      "|               Home|\n",
      "|              About|\n",
      "|Submit Registration|\n",
      "|              Login|\n",
      "|           Register|\n",
      "|               Help|\n",
      "|              Error|\n",
      "+-------------------+\n",
      "\n"
     ]
    }
   ],
   "source": [
    "#users with blank user id\n",
    "blank_ids = user_df.filter(user_df.userId == '').select(col('page').alias('blank_pages')).dropDuplicates().show()"
   ]
  },
  {
   "cell_type": "code",
   "execution_count": 10,
   "metadata": {},
   "outputs": [],
   "source": [
    "#dropping NA vales from user id and session id , dropping empty values from the user id \n",
    "df_updated = user_df.dropna(how = \"any\", subset = [\"userId\", \"sessionId\"]).dropDuplicates()\n",
    "df_updated = df_updated.filter(df_updated[\"userId\"] != \"\")"
   ]
  },
  {
   "cell_type": "code",
   "execution_count": 11,
   "metadata": {},
   "outputs": [
    {
     "data": {
      "text/plain": [
       "(278154, 18)"
      ]
     },
     "execution_count": 11,
     "metadata": {},
     "output_type": "execute_result"
    }
   ],
   "source": [
    "#number of rows and columns\n",
    "df_up = df_updated.toPandas()\n",
    "df_up.shape"
   ]
  },
  {
   "cell_type": "code",
   "execution_count": 12,
   "metadata": {},
   "outputs": [
    {
     "data": {
      "text/html": [
       "<div>\n",
       "<style scoped>\n",
       "    .dataframe tbody tr th:only-of-type {\n",
       "        vertical-align: middle;\n",
       "    }\n",
       "\n",
       "    .dataframe tbody tr th {\n",
       "        vertical-align: top;\n",
       "    }\n",
       "\n",
       "    .dataframe thead th {\n",
       "        text-align: right;\n",
       "    }\n",
       "</style>\n",
       "<table border=\"1\" class=\"dataframe\">\n",
       "  <thead>\n",
       "    <tr style=\"text-align: right;\">\n",
       "      <th></th>\n",
       "      <th>artist</th>\n",
       "      <th>auth</th>\n",
       "      <th>firstName</th>\n",
       "      <th>gender</th>\n",
       "      <th>itemInSession</th>\n",
       "      <th>lastName</th>\n",
       "      <th>length</th>\n",
       "      <th>level</th>\n",
       "      <th>location</th>\n",
       "      <th>method</th>\n",
       "      <th>page</th>\n",
       "      <th>registration</th>\n",
       "      <th>sessionId</th>\n",
       "      <th>song</th>\n",
       "      <th>status</th>\n",
       "      <th>ts</th>\n",
       "      <th>userAgent</th>\n",
       "      <th>userId</th>\n",
       "    </tr>\n",
       "  </thead>\n",
       "  <tbody>\n",
       "    <tr>\n",
       "      <th>0</th>\n",
       "      <td>The Futureheads</td>\n",
       "      <td>Logged In</td>\n",
       "      <td>Ainsley</td>\n",
       "      <td>F</td>\n",
       "      <td>80</td>\n",
       "      <td>Farley</td>\n",
       "      <td>120.81587</td>\n",
       "      <td>free</td>\n",
       "      <td>McAllen-Edinburg-Mission, TX</td>\n",
       "      <td>PUT</td>\n",
       "      <td>NextSong</td>\n",
       "      <td>1538304455000</td>\n",
       "      <td>187</td>\n",
       "      <td>Robot</td>\n",
       "      <td>200</td>\n",
       "      <td>1538373133000</td>\n",
       "      <td>\"Mozilla/5.0 (Windows NT 6.1; WOW64) AppleWebK...</td>\n",
       "      <td>78</td>\n",
       "    </tr>\n",
       "    <tr>\n",
       "      <th>1</th>\n",
       "      <td>None</td>\n",
       "      <td>Logged In</td>\n",
       "      <td>Ainsley</td>\n",
       "      <td>F</td>\n",
       "      <td>81</td>\n",
       "      <td>Farley</td>\n",
       "      <td>NaN</td>\n",
       "      <td>free</td>\n",
       "      <td>McAllen-Edinburg-Mission, TX</td>\n",
       "      <td>PUT</td>\n",
       "      <td>Thumbs Down</td>\n",
       "      <td>1538304455000</td>\n",
       "      <td>187</td>\n",
       "      <td>None</td>\n",
       "      <td>307</td>\n",
       "      <td>1538373134000</td>\n",
       "      <td>\"Mozilla/5.0 (Windows NT 6.1; WOW64) AppleWebK...</td>\n",
       "      <td>78</td>\n",
       "    </tr>\n",
       "    <tr>\n",
       "      <th>2</th>\n",
       "      <td>O'Rosko Raricim</td>\n",
       "      <td>Logged In</td>\n",
       "      <td>Madison</td>\n",
       "      <td>F</td>\n",
       "      <td>74</td>\n",
       "      <td>Morales</td>\n",
       "      <td>90.56608</td>\n",
       "      <td>paid</td>\n",
       "      <td>Tampa-St. Petersburg-Clearwater, FL</td>\n",
       "      <td>PUT</td>\n",
       "      <td>NextSong</td>\n",
       "      <td>1536287099000</td>\n",
       "      <td>222</td>\n",
       "      <td>Terre Promise</td>\n",
       "      <td>200</td>\n",
       "      <td>1538384924000</td>\n",
       "      <td>\"Mozilla/5.0 (Macintosh; Intel Mac OS X 10_9_4...</td>\n",
       "      <td>25</td>\n",
       "    </tr>\n",
       "    <tr>\n",
       "      <th>3</th>\n",
       "      <td>Morgan Page</td>\n",
       "      <td>Logged In</td>\n",
       "      <td>Panav</td>\n",
       "      <td>M</td>\n",
       "      <td>23</td>\n",
       "      <td>Myers</td>\n",
       "      <td>235.54567</td>\n",
       "      <td>paid</td>\n",
       "      <td>Morgantown, WV</td>\n",
       "      <td>PUT</td>\n",
       "      <td>NextSong</td>\n",
       "      <td>1538239045000</td>\n",
       "      <td>237</td>\n",
       "      <td>Strange Condition</td>\n",
       "      <td>200</td>\n",
       "      <td>1538394878000</td>\n",
       "      <td>\"Mozilla/5.0 (Windows NT 6.1; WOW64) AppleWebK...</td>\n",
       "      <td>15</td>\n",
       "    </tr>\n",
       "    <tr>\n",
       "      <th>4</th>\n",
       "      <td>None</td>\n",
       "      <td>Logged In</td>\n",
       "      <td>Ethan</td>\n",
       "      <td>M</td>\n",
       "      <td>15</td>\n",
       "      <td>Raymond</td>\n",
       "      <td>NaN</td>\n",
       "      <td>free</td>\n",
       "      <td>Hartford-West Hartford-East Hartford, CT</td>\n",
       "      <td>GET</td>\n",
       "      <td>Home</td>\n",
       "      <td>1534245996000</td>\n",
       "      <td>26</td>\n",
       "      <td>None</td>\n",
       "      <td>200</td>\n",
       "      <td>1538402423000</td>\n",
       "      <td>\"Mozilla/5.0 (Windows NT 6.3; WOW64) AppleWebK...</td>\n",
       "      <td>27</td>\n",
       "    </tr>\n",
       "  </tbody>\n",
       "</table>\n",
       "</div>"
      ],
      "text/plain": [
       "            artist       auth firstName gender  itemInSession lastName  \\\n",
       "0  The Futureheads  Logged In   Ainsley      F             80   Farley   \n",
       "1             None  Logged In   Ainsley      F             81   Farley   \n",
       "2  O'Rosko Raricim  Logged In   Madison      F             74  Morales   \n",
       "3      Morgan Page  Logged In     Panav      M             23    Myers   \n",
       "4             None  Logged In     Ethan      M             15  Raymond   \n",
       "\n",
       "      length level                                  location method  \\\n",
       "0  120.81587  free              McAllen-Edinburg-Mission, TX    PUT   \n",
       "1        NaN  free              McAllen-Edinburg-Mission, TX    PUT   \n",
       "2   90.56608  paid       Tampa-St. Petersburg-Clearwater, FL    PUT   \n",
       "3  235.54567  paid                            Morgantown, WV    PUT   \n",
       "4        NaN  free  Hartford-West Hartford-East Hartford, CT    GET   \n",
       "\n",
       "          page   registration  sessionId               song  status  \\\n",
       "0     NextSong  1538304455000        187              Robot     200   \n",
       "1  Thumbs Down  1538304455000        187               None     307   \n",
       "2     NextSong  1536287099000        222      Terre Promise     200   \n",
       "3     NextSong  1538239045000        237  Strange Condition     200   \n",
       "4         Home  1534245996000         26               None     200   \n",
       "\n",
       "              ts                                          userAgent userId  \n",
       "0  1538373133000  \"Mozilla/5.0 (Windows NT 6.1; WOW64) AppleWebK...     78  \n",
       "1  1538373134000  \"Mozilla/5.0 (Windows NT 6.1; WOW64) AppleWebK...     78  \n",
       "2  1538384924000  \"Mozilla/5.0 (Macintosh; Intel Mac OS X 10_9_4...     25  \n",
       "3  1538394878000  \"Mozilla/5.0 (Windows NT 6.1; WOW64) AppleWebK...     15  \n",
       "4  1538402423000  \"Mozilla/5.0 (Windows NT 6.3; WOW64) AppleWebK...     27  "
      ]
     },
     "execution_count": 12,
     "metadata": {},
     "output_type": "execute_result"
    }
   ],
   "source": [
    "# Converting to pandas dataframe\n",
    "df_updated.toPandas().head(5)"
   ]
  },
  {
   "cell_type": "markdown",
   "metadata": {},
   "source": [
    "# Exploratory Data Analysis\n",
    "When you're working with the full dataset, perform EDA by loading a small subset of the data and doing basic manipulations within Spark. In this workspace, you are already provided a small subset of data you can explore.\n",
    "\n",
    "### Define Churn\n",
    "\n",
    "Once you've done some preliminary analysis, create a column `Churn` to use as the label for your model. I suggest using the `Cancellation Confirmation` events to define your churn, which happen for both paid and free users. As a bonus task, you can also look into the `Downgrade` events.\n",
    "\n",
    "### Explore Data\n",
    "Once you've defined churn, perform some exploratory data analysis to observe the behavior for users who stayed vs users who churned. You can start by exploring aggregates on these two groups of users, observing how much of a specific action they experienced per a certain time unit or number of songs played."
   ]
  },
  {
   "cell_type": "code",
   "execution_count": 13,
   "metadata": {},
   "outputs": [
    {
     "data": {
      "text/html": [
       "<div>\n",
       "<style scoped>\n",
       "    .dataframe tbody tr th:only-of-type {\n",
       "        vertical-align: middle;\n",
       "    }\n",
       "\n",
       "    .dataframe tbody tr th {\n",
       "        vertical-align: top;\n",
       "    }\n",
       "\n",
       "    .dataframe thead th {\n",
       "        text-align: right;\n",
       "    }\n",
       "</style>\n",
       "<table border=\"1\" class=\"dataframe\">\n",
       "  <thead>\n",
       "    <tr style=\"text-align: right;\">\n",
       "      <th></th>\n",
       "      <th>artist</th>\n",
       "      <th>auth</th>\n",
       "      <th>firstName</th>\n",
       "      <th>gender</th>\n",
       "      <th>itemInSession</th>\n",
       "      <th>lastName</th>\n",
       "      <th>length</th>\n",
       "      <th>level</th>\n",
       "      <th>location</th>\n",
       "      <th>method</th>\n",
       "      <th>page</th>\n",
       "      <th>registration</th>\n",
       "      <th>sessionId</th>\n",
       "      <th>song</th>\n",
       "      <th>status</th>\n",
       "      <th>ts</th>\n",
       "      <th>userAgent</th>\n",
       "      <th>userId</th>\n",
       "      <th>Churn</th>\n",
       "    </tr>\n",
       "  </thead>\n",
       "  <tbody>\n",
       "    <tr>\n",
       "      <th>0</th>\n",
       "      <td>Bebe</td>\n",
       "      <td>Logged In</td>\n",
       "      <td>Darianna</td>\n",
       "      <td>F</td>\n",
       "      <td>1</td>\n",
       "      <td>Carpenter</td>\n",
       "      <td>225.77587</td>\n",
       "      <td>free</td>\n",
       "      <td>Bridgeport-Stamford-Norwalk, CT</td>\n",
       "      <td>PUT</td>\n",
       "      <td>NextSong</td>\n",
       "      <td>1538016340000</td>\n",
       "      <td>174</td>\n",
       "      <td>Men SeÃÂ±arÃÂ¡</td>\n",
       "      <td>200</td>\n",
       "      <td>1541731859000</td>\n",
       "      <td>\"Mozilla/5.0 (iPhone; CPU iPhone OS 7_1_2 like...</td>\n",
       "      <td>100010</td>\n",
       "      <td>0</td>\n",
       "    </tr>\n",
       "    <tr>\n",
       "      <th>1</th>\n",
       "      <td>The Ruts</td>\n",
       "      <td>Logged In</td>\n",
       "      <td>Darianna</td>\n",
       "      <td>F</td>\n",
       "      <td>44</td>\n",
       "      <td>Carpenter</td>\n",
       "      <td>338.96444</td>\n",
       "      <td>free</td>\n",
       "      <td>Bridgeport-Stamford-Norwalk, CT</td>\n",
       "      <td>PUT</td>\n",
       "      <td>NextSong</td>\n",
       "      <td>1538016340000</td>\n",
       "      <td>118</td>\n",
       "      <td>West One (Shine On Me)</td>\n",
       "      <td>200</td>\n",
       "      <td>1540052737000</td>\n",
       "      <td>\"Mozilla/5.0 (iPhone; CPU iPhone OS 7_1_2 like...</td>\n",
       "      <td>100010</td>\n",
       "      <td>0</td>\n",
       "    </tr>\n",
       "    <tr>\n",
       "      <th>2</th>\n",
       "      <td>None</td>\n",
       "      <td>Logged In</td>\n",
       "      <td>Darianna</td>\n",
       "      <td>F</td>\n",
       "      <td>21</td>\n",
       "      <td>Carpenter</td>\n",
       "      <td>NaN</td>\n",
       "      <td>free</td>\n",
       "      <td>Bridgeport-Stamford-Norwalk, CT</td>\n",
       "      <td>PUT</td>\n",
       "      <td>Logout</td>\n",
       "      <td>1538016340000</td>\n",
       "      <td>133</td>\n",
       "      <td>None</td>\n",
       "      <td>307</td>\n",
       "      <td>1541415422000</td>\n",
       "      <td>\"Mozilla/5.0 (iPhone; CPU iPhone OS 7_1_2 like...</td>\n",
       "      <td>100010</td>\n",
       "      <td>0</td>\n",
       "    </tr>\n",
       "    <tr>\n",
       "      <th>3</th>\n",
       "      <td>Shakira</td>\n",
       "      <td>Logged In</td>\n",
       "      <td>Darianna</td>\n",
       "      <td>F</td>\n",
       "      <td>51</td>\n",
       "      <td>Carpenter</td>\n",
       "      <td>363.38893</td>\n",
       "      <td>free</td>\n",
       "      <td>Bridgeport-Stamford-Norwalk, CT</td>\n",
       "      <td>PUT</td>\n",
       "      <td>NextSong</td>\n",
       "      <td>1538016340000</td>\n",
       "      <td>133</td>\n",
       "      <td>Octavo DÃÂ­a</td>\n",
       "      <td>200</td>\n",
       "      <td>1541419901000</td>\n",
       "      <td>\"Mozilla/5.0 (iPhone; CPU iPhone OS 7_1_2 like...</td>\n",
       "      <td>100010</td>\n",
       "      <td>0</td>\n",
       "    </tr>\n",
       "    <tr>\n",
       "      <th>4</th>\n",
       "      <td>None</td>\n",
       "      <td>Logged In</td>\n",
       "      <td>Darianna</td>\n",
       "      <td>F</td>\n",
       "      <td>100</td>\n",
       "      <td>Carpenter</td>\n",
       "      <td>NaN</td>\n",
       "      <td>free</td>\n",
       "      <td>Bridgeport-Stamford-Norwalk, CT</td>\n",
       "      <td>GET</td>\n",
       "      <td>Roll Advert</td>\n",
       "      <td>1538016340000</td>\n",
       "      <td>174</td>\n",
       "      <td>None</td>\n",
       "      <td>200</td>\n",
       "      <td>1541749370000</td>\n",
       "      <td>\"Mozilla/5.0 (iPhone; CPU iPhone OS 7_1_2 like...</td>\n",
       "      <td>100010</td>\n",
       "      <td>0</td>\n",
       "    </tr>\n",
       "  </tbody>\n",
       "</table>\n",
       "</div>"
      ],
      "text/plain": [
       "     artist       auth firstName gender  itemInSession   lastName     length  \\\n",
       "0      Bebe  Logged In  Darianna      F              1  Carpenter  225.77587   \n",
       "1  The Ruts  Logged In  Darianna      F             44  Carpenter  338.96444   \n",
       "2      None  Logged In  Darianna      F             21  Carpenter        NaN   \n",
       "3   Shakira  Logged In  Darianna      F             51  Carpenter  363.38893   \n",
       "4      None  Logged In  Darianna      F            100  Carpenter        NaN   \n",
       "\n",
       "  level                         location method         page   registration  \\\n",
       "0  free  Bridgeport-Stamford-Norwalk, CT    PUT     NextSong  1538016340000   \n",
       "1  free  Bridgeport-Stamford-Norwalk, CT    PUT     NextSong  1538016340000   \n",
       "2  free  Bridgeport-Stamford-Norwalk, CT    PUT       Logout  1538016340000   \n",
       "3  free  Bridgeport-Stamford-Norwalk, CT    PUT     NextSong  1538016340000   \n",
       "4  free  Bridgeport-Stamford-Norwalk, CT    GET  Roll Advert  1538016340000   \n",
       "\n",
       "   sessionId                    song  status             ts  \\\n",
       "0        174        Men SeÃÂ±arÃÂ¡     200  1541731859000   \n",
       "1        118  West One (Shine On Me)     200  1540052737000   \n",
       "2        133                    None     307  1541415422000   \n",
       "3        133           Octavo DÃÂ­a     200  1541419901000   \n",
       "4        174                    None     200  1541749370000   \n",
       "\n",
       "                                           userAgent  userId  Churn  \n",
       "0  \"Mozilla/5.0 (iPhone; CPU iPhone OS 7_1_2 like...  100010      0  \n",
       "1  \"Mozilla/5.0 (iPhone; CPU iPhone OS 7_1_2 like...  100010      0  \n",
       "2  \"Mozilla/5.0 (iPhone; CPU iPhone OS 7_1_2 like...  100010      0  \n",
       "3  \"Mozilla/5.0 (iPhone; CPU iPhone OS 7_1_2 like...  100010      0  \n",
       "4  \"Mozilla/5.0 (iPhone; CPU iPhone OS 7_1_2 like...  100010      0  "
      ]
     },
     "execution_count": 13,
     "metadata": {},
     "output_type": "execute_result"
    }
   ],
   "source": [
    "#function for cancellation confirmation, i/p 1 if canclled\n",
    "cancel_event = udf(lambda x: 1 if x == \"Cancellation Confirmation\" else 0, IntegerType())\n",
    "\n",
    "# window partitioned by user in order to input 1 to churn users\n",
    "window_value = Window.partitionBy(\"userId\").rangeBetween(Window.unboundedPreceding, Window.unboundedFollowing)\n",
    "\n",
    "#Creating column Churn\n",
    "df_cncl_Churn = df_updated.withColumn(\"Churn\", cancel_event(\"page\"))\n",
    "df_cncl_Churn = df_cncl_Churn.withColumn(\"Churn\", Fsum(\"Churn\").over(window_value))\n",
    "\n",
    "#converting to pandas df and showing some data\n",
    "df_cncl_Churn.toPandas().head(5)"
   ]
  },
  {
   "cell_type": "code",
   "execution_count": 14,
   "metadata": {},
   "outputs": [
    {
     "data": {
      "text/html": [
       "<div>\n",
       "<style scoped>\n",
       "    .dataframe tbody tr th:only-of-type {\n",
       "        vertical-align: middle;\n",
       "    }\n",
       "\n",
       "    .dataframe tbody tr th {\n",
       "        vertical-align: top;\n",
       "    }\n",
       "\n",
       "    .dataframe thead th {\n",
       "        text-align: right;\n",
       "    }\n",
       "</style>\n",
       "<table border=\"1\" class=\"dataframe\">\n",
       "  <thead>\n",
       "    <tr style=\"text-align: right;\">\n",
       "      <th></th>\n",
       "      <th>artist</th>\n",
       "      <th>auth</th>\n",
       "      <th>firstName</th>\n",
       "      <th>gender</th>\n",
       "      <th>itemInSession</th>\n",
       "      <th>lastName</th>\n",
       "      <th>length</th>\n",
       "      <th>level</th>\n",
       "      <th>location</th>\n",
       "      <th>method</th>\n",
       "      <th>...</th>\n",
       "      <th>registration</th>\n",
       "      <th>sessionId</th>\n",
       "      <th>song</th>\n",
       "      <th>status</th>\n",
       "      <th>ts</th>\n",
       "      <th>userAgent</th>\n",
       "      <th>userId</th>\n",
       "      <th>Churn</th>\n",
       "      <th>new_ts</th>\n",
       "      <th>new_registration</th>\n",
       "    </tr>\n",
       "  </thead>\n",
       "  <tbody>\n",
       "    <tr>\n",
       "      <th>0</th>\n",
       "      <td>Bebe</td>\n",
       "      <td>Logged In</td>\n",
       "      <td>Darianna</td>\n",
       "      <td>F</td>\n",
       "      <td>1</td>\n",
       "      <td>Carpenter</td>\n",
       "      <td>225.77587</td>\n",
       "      <td>free</td>\n",
       "      <td>Bridgeport-Stamford-Norwalk, CT</td>\n",
       "      <td>PUT</td>\n",
       "      <td>...</td>\n",
       "      <td>1538016340000</td>\n",
       "      <td>174</td>\n",
       "      <td>Men SeÃÂ±arÃÂ¡</td>\n",
       "      <td>200</td>\n",
       "      <td>1541731859000</td>\n",
       "      <td>\"Mozilla/5.0 (iPhone; CPU iPhone OS 7_1_2 like...</td>\n",
       "      <td>100010</td>\n",
       "      <td>0</td>\n",
       "      <td>2018-11-09 02:50:59</td>\n",
       "      <td>2018-09-27 02:45:40</td>\n",
       "    </tr>\n",
       "    <tr>\n",
       "      <th>1</th>\n",
       "      <td>The Ruts</td>\n",
       "      <td>Logged In</td>\n",
       "      <td>Darianna</td>\n",
       "      <td>F</td>\n",
       "      <td>44</td>\n",
       "      <td>Carpenter</td>\n",
       "      <td>338.96444</td>\n",
       "      <td>free</td>\n",
       "      <td>Bridgeport-Stamford-Norwalk, CT</td>\n",
       "      <td>PUT</td>\n",
       "      <td>...</td>\n",
       "      <td>1538016340000</td>\n",
       "      <td>118</td>\n",
       "      <td>West One (Shine On Me)</td>\n",
       "      <td>200</td>\n",
       "      <td>1540052737000</td>\n",
       "      <td>\"Mozilla/5.0 (iPhone; CPU iPhone OS 7_1_2 like...</td>\n",
       "      <td>100010</td>\n",
       "      <td>0</td>\n",
       "      <td>2018-10-20 16:25:37</td>\n",
       "      <td>2018-09-27 02:45:40</td>\n",
       "    </tr>\n",
       "    <tr>\n",
       "      <th>2</th>\n",
       "      <td>None</td>\n",
       "      <td>Logged In</td>\n",
       "      <td>Darianna</td>\n",
       "      <td>F</td>\n",
       "      <td>21</td>\n",
       "      <td>Carpenter</td>\n",
       "      <td>NaN</td>\n",
       "      <td>free</td>\n",
       "      <td>Bridgeport-Stamford-Norwalk, CT</td>\n",
       "      <td>PUT</td>\n",
       "      <td>...</td>\n",
       "      <td>1538016340000</td>\n",
       "      <td>133</td>\n",
       "      <td>None</td>\n",
       "      <td>307</td>\n",
       "      <td>1541415422000</td>\n",
       "      <td>\"Mozilla/5.0 (iPhone; CPU iPhone OS 7_1_2 like...</td>\n",
       "      <td>100010</td>\n",
       "      <td>0</td>\n",
       "      <td>2018-11-05 10:57:02</td>\n",
       "      <td>2018-09-27 02:45:40</td>\n",
       "    </tr>\n",
       "    <tr>\n",
       "      <th>3</th>\n",
       "      <td>Shakira</td>\n",
       "      <td>Logged In</td>\n",
       "      <td>Darianna</td>\n",
       "      <td>F</td>\n",
       "      <td>51</td>\n",
       "      <td>Carpenter</td>\n",
       "      <td>363.38893</td>\n",
       "      <td>free</td>\n",
       "      <td>Bridgeport-Stamford-Norwalk, CT</td>\n",
       "      <td>PUT</td>\n",
       "      <td>...</td>\n",
       "      <td>1538016340000</td>\n",
       "      <td>133</td>\n",
       "      <td>Octavo DÃÂ­a</td>\n",
       "      <td>200</td>\n",
       "      <td>1541419901000</td>\n",
       "      <td>\"Mozilla/5.0 (iPhone; CPU iPhone OS 7_1_2 like...</td>\n",
       "      <td>100010</td>\n",
       "      <td>0</td>\n",
       "      <td>2018-11-05 12:11:41</td>\n",
       "      <td>2018-09-27 02:45:40</td>\n",
       "    </tr>\n",
       "    <tr>\n",
       "      <th>4</th>\n",
       "      <td>None</td>\n",
       "      <td>Logged In</td>\n",
       "      <td>Darianna</td>\n",
       "      <td>F</td>\n",
       "      <td>100</td>\n",
       "      <td>Carpenter</td>\n",
       "      <td>NaN</td>\n",
       "      <td>free</td>\n",
       "      <td>Bridgeport-Stamford-Norwalk, CT</td>\n",
       "      <td>GET</td>\n",
       "      <td>...</td>\n",
       "      <td>1538016340000</td>\n",
       "      <td>174</td>\n",
       "      <td>None</td>\n",
       "      <td>200</td>\n",
       "      <td>1541749370000</td>\n",
       "      <td>\"Mozilla/5.0 (iPhone; CPU iPhone OS 7_1_2 like...</td>\n",
       "      <td>100010</td>\n",
       "      <td>0</td>\n",
       "      <td>2018-11-09 07:42:50</td>\n",
       "      <td>2018-09-27 02:45:40</td>\n",
       "    </tr>\n",
       "  </tbody>\n",
       "</table>\n",
       "<p>5 rows × 21 columns</p>\n",
       "</div>"
      ],
      "text/plain": [
       "     artist       auth firstName gender  itemInSession   lastName     length  \\\n",
       "0      Bebe  Logged In  Darianna      F              1  Carpenter  225.77587   \n",
       "1  The Ruts  Logged In  Darianna      F             44  Carpenter  338.96444   \n",
       "2      None  Logged In  Darianna      F             21  Carpenter        NaN   \n",
       "3   Shakira  Logged In  Darianna      F             51  Carpenter  363.38893   \n",
       "4      None  Logged In  Darianna      F            100  Carpenter        NaN   \n",
       "\n",
       "  level                         location method         ...           \\\n",
       "0  free  Bridgeport-Stamford-Norwalk, CT    PUT         ...            \n",
       "1  free  Bridgeport-Stamford-Norwalk, CT    PUT         ...            \n",
       "2  free  Bridgeport-Stamford-Norwalk, CT    PUT         ...            \n",
       "3  free  Bridgeport-Stamford-Norwalk, CT    PUT         ...            \n",
       "4  free  Bridgeport-Stamford-Norwalk, CT    GET         ...            \n",
       "\n",
       "    registration  sessionId                    song status             ts  \\\n",
       "0  1538016340000        174        Men SeÃÂ±arÃÂ¡    200  1541731859000   \n",
       "1  1538016340000        118  West One (Shine On Me)    200  1540052737000   \n",
       "2  1538016340000        133                    None    307  1541415422000   \n",
       "3  1538016340000        133           Octavo DÃÂ­a    200  1541419901000   \n",
       "4  1538016340000        174                    None    200  1541749370000   \n",
       "\n",
       "                                           userAgent  userId Churn  \\\n",
       "0  \"Mozilla/5.0 (iPhone; CPU iPhone OS 7_1_2 like...  100010     0   \n",
       "1  \"Mozilla/5.0 (iPhone; CPU iPhone OS 7_1_2 like...  100010     0   \n",
       "2  \"Mozilla/5.0 (iPhone; CPU iPhone OS 7_1_2 like...  100010     0   \n",
       "3  \"Mozilla/5.0 (iPhone; CPU iPhone OS 7_1_2 like...  100010     0   \n",
       "4  \"Mozilla/5.0 (iPhone; CPU iPhone OS 7_1_2 like...  100010     0   \n",
       "\n",
       "                new_ts     new_registration  \n",
       "0  2018-11-09 02:50:59  2018-09-27 02:45:40  \n",
       "1  2018-10-20 16:25:37  2018-09-27 02:45:40  \n",
       "2  2018-11-05 10:57:02  2018-09-27 02:45:40  \n",
       "3  2018-11-05 12:11:41  2018-09-27 02:45:40  \n",
       "4  2018-11-09 07:42:50  2018-09-27 02:45:40  \n",
       "\n",
       "[5 rows x 21 columns]"
      ]
     },
     "execution_count": 14,
     "metadata": {},
     "output_type": "execute_result"
    }
   ],
   "source": [
    "#updating registration and timestamp by creating new columns\n",
    "updated_ts = udf(lambda x: datetime.datetime.fromtimestamp(x / 1000.0).strftime(\"%Y-%m-%d %H:%M:%S\"))\n",
    "df_cncl_Churn = df_cncl_Churn.withColumn(\"new_ts\", updated_ts(df_cncl_Churn.ts))\n",
    "df_cncl_Churn = df_cncl_Churn.withColumn(\"new_registration\", updated_ts(df_cncl_Churn.registration))\n",
    "\n",
    "#view the changes\n",
    "df_cncl_Churn.toPandas().head(5)"
   ]
  },
  {
   "cell_type": "code",
   "execution_count": 15,
   "metadata": {},
   "outputs": [
    {
     "name": "stdout",
     "output_type": "stream",
     "text": [
      "+------+-----+-----+\n",
      "|gender|Churn|count|\n",
      "+------+-----+-----+\n",
      "|     F|    0|   84|\n",
      "|     F|    1|   20|\n",
      "|     M|    0|   89|\n",
      "|     M|    1|   32|\n",
      "+------+-----+-----+\n",
      "\n"
     ]
    }
   ],
   "source": [
    "df_cncl_Churn.dropDuplicates(['userID']).groupby(['gender', 'Churn']).count().show(5)"
   ]
  },
  {
   "cell_type": "code",
   "execution_count": 16,
   "metadata": {},
   "outputs": [
    {
     "name": "stdout",
     "output_type": "stream",
     "text": [
      "+------+-----+\n",
      "|userID|count|\n",
      "+------+-----+\n",
      "|100010|  381|\n",
      "|200002|  474|\n",
      "|   125|   11|\n",
      "|    51| 2464|\n",
      "|   124| 4825|\n",
      "+------+-----+\n",
      "only showing top 5 rows\n",
      "\n"
     ]
    }
   ],
   "source": [
    "df_cncl_Churn.groupby(['userID']).count().show(5)"
   ]
  },
  {
   "cell_type": "code",
   "execution_count": 17,
   "metadata": {},
   "outputs": [
    {
     "data": {
      "text/plain": [
       "[('artist', 'string'),\n",
       " ('auth', 'string'),\n",
       " ('firstName', 'string'),\n",
       " ('gender', 'string'),\n",
       " ('itemInSession', 'bigint'),\n",
       " ('lastName', 'string'),\n",
       " ('length', 'double'),\n",
       " ('level', 'string'),\n",
       " ('location', 'string'),\n",
       " ('method', 'string'),\n",
       " ('page', 'string'),\n",
       " ('registration', 'bigint'),\n",
       " ('sessionId', 'bigint'),\n",
       " ('song', 'string'),\n",
       " ('status', 'bigint'),\n",
       " ('ts', 'bigint'),\n",
       " ('userAgent', 'string'),\n",
       " ('userId', 'string'),\n",
       " ('Churn', 'bigint'),\n",
       " ('new_ts', 'string'),\n",
       " ('new_registration', 'string')]"
      ]
     },
     "metadata": {},
     "output_type": "display_data"
    }
   ],
   "source": [
    "display(df_cncl_Churn.dtypes)"
   ]
  },
  {
   "cell_type": "code",
   "execution_count": 18,
   "metadata": {},
   "outputs": [
    {
     "data": {
      "text/plain": [
       "<matplotlib.axes._subplots.AxesSubplot at 0x7f6e8b381748>"
      ]
     },
     "execution_count": 18,
     "metadata": {},
     "output_type": "execute_result"
    },
    {
     "data": {
      "image/png": "[encoded data removed]",
      "text/plain": [
       "<matplotlib.figure.Figure at 0x7f6e695e6cc0>"
      ]
     },
     "metadata": {
      "needs_background": "light"
     },
     "output_type": "display_data"
    }
   ],
   "source": [
    "# Genderwise churn effect analysis\n",
    "data=df_cncl_Churn.dropDuplicates(['userID']).groupby(['gender', 'Churn']).count().toPandas()\n",
    "fig, ax = plt.subplots(1, 3, figsize=(17, 8))\n",
    "\n",
    "#plot gender vs count\n",
    "sns.barplot(x='count', y='gender', hue='Churn', data=data,ax=ax[0])\n",
    "\n",
    "#plot churn vs count\n",
    "sns.barplot(x='count', y='Churn', hue='gender', data=data,ax=ax[1])\n",
    "\n",
    "#plot gender vs count\n",
    "sns.barplot(x='count', y='gender', data=data.groupby('gender',as_index=False).sum(),ax=ax[2])"
   ]
  },
  {
   "cell_type": "markdown",
   "metadata": {},
   "source": [
    "by looking in above plots, we could find that male users tends to churn more then females."
   ]
  },
  {
   "cell_type": "code",
   "execution_count": 19,
   "metadata": {},
   "outputs": [
    {
     "data": {
      "image/png": "[encoded data removed]",
      "text/plain": [
       "<matplotlib.figure.Figure at 0x7f6e844ada90>"
      ]
     },
     "metadata": {
      "needs_background": "light"
     },
     "output_type": "display_data"
    }
   ],
   "source": [
    "# plotting the distribution for number of songs played per session for churned and normal users\n",
    "songs_played_df = df_cncl_Churn.where('page == \"NextSong\"').groupby(['Churn', 'userId', 'sessionId', 'gender']).count()\\\n",
    "                                .groupby(['Churn', 'userId', 'gender']).agg({'count': 'avg'})\\\n",
    "                                .withColumnRenamed('avg(count)', 'avg_played_songs').toPandas()\n",
    "\n",
    "#plotting the Avg_songs_played by users\n",
    "fig, ax = plt.subplots(figsize=(10,8))\n",
    "sns.barplot( x=\"Churn\",y=\"avg_played_songs\", hue=\"gender\", data=songs_played_df,ax=ax);"
   ]
  },
  {
   "cell_type": "markdown",
   "metadata": {},
   "source": [
    "here we could see the churned users played less number of songs per session compared to users who din't churn out. So its turning out that the male users who listened less number of songs compared to thier female counterparts. "
   ]
  },
  {
   "cell_type": "code",
   "execution_count": 20,
   "metadata": {},
   "outputs": [
    {
     "data": {
      "text/plain": [
       "DataFrame[sessionId: bigint, page: string, new_ts: string, userId: string]"
      ]
     },
     "execution_count": 20,
     "metadata": {},
     "output_type": "execute_result"
    }
   ],
   "source": [
    "df_cncl_Churn.select(['sessionId','page','new_ts',\"userId\"]).filter(df_cncl_Churn.sessionId==1).orderBy('new_ts').dropDuplicates(['userID'])"
   ]
  },
  {
   "cell_type": "code",
   "execution_count": 21,
   "metadata": {},
   "outputs": [
    {
     "data": {
      "text/plain": [
       "(278154, 21)"
      ]
     },
     "execution_count": 21,
     "metadata": {},
     "output_type": "execute_result"
    }
   ],
   "source": [
    "#check the shape of df\n",
    "df_check2 = df_cncl_Churn.toPandas()\n",
    "df_check2.shape"
   ]
  },
  {
   "cell_type": "code",
   "execution_count": 22,
   "metadata": {
    "scrolled": false
   },
   "outputs": [
    {
     "data": {
      "image/png": "[encoded data removed]",
      "text/plain": [
       "<matplotlib.figure.Figure at 0x7f6e571e9f60>"
      ]
     },
     "metadata": {
      "needs_background": "light"
     },
     "output_type": "display_data"
    }
   ],
   "source": [
    "#data frame of the counts per page\n",
    "plot_var=df_cncl_Churn.groupby(['userId','Churn']).pivot('page').count().toPandas().fillna(value=0)\n",
    "\n",
    "#list of page to be mapped\n",
    "columns = list(plot_var.columns)\n",
    "\n",
    "#removing some unrequired column vars\n",
    "columns.remove('userId')\n",
    "columns.remove('Churn')\n",
    "\n",
    "#plotting histograms\n",
    "fig, ax = plt.subplots(7, 3, figsize=(16, 50))\n",
    "for var, subplot in zip(columns, ax.flatten()):\n",
    "    sns.boxplot(x='Churn', y=var, data=plot_var, ax=subplot)"
   ]
  },
  {
   "cell_type": "code",
   "execution_count": 23,
   "metadata": {},
   "outputs": [
    {
     "name": "stdout",
     "output_type": "stream",
     "text": [
      "The Stats for Churn value 0 are :\n",
      "            About  Add Friend  Add to Playlist  Cancel  \\\n",
      "count  173.000000  173.000000       173.000000   173.0   \n",
      "mean     2.537572   21.046243        31.722543     0.0   \n",
      "std      3.426136   22.286667        35.056821     0.0   \n",
      "min      0.000000    0.000000         0.000000     0.0   \n",
      "25%      0.000000    6.000000         7.000000     0.0   \n",
      "50%      1.000000   16.000000        21.000000     0.0   \n",
      "75%      3.000000   28.000000        50.000000     0.0   \n",
      "max     25.000000  143.000000       240.000000     0.0   \n",
      "\n",
      "       Cancellation Confirmation   Downgrade       Error        Help  \\\n",
      "count                      173.0  173.000000  173.000000  173.000000   \n",
      "mean                         0.0    9.930636    1.271676    7.023121   \n",
      "std                          0.0   12.513520    1.585236    7.664441   \n",
      "min                          0.0    0.000000    0.000000    0.000000   \n",
      "25%                          0.0    0.000000    0.000000    1.000000   \n",
      "50%                          0.0    6.000000    1.000000    5.000000   \n",
      "75%                          0.0   15.000000    2.000000    9.000000   \n",
      "max                          0.0   73.000000    7.000000   46.000000   \n",
      "\n",
      "             Home      Logout     NextSong  Roll Advert  Save Settings  \\\n",
      "count  173.000000  173.000000   173.000000   173.000000     173.000000   \n",
      "mean    48.612717   15.450867  1108.173410    17.144509       1.456647   \n",
      "std     50.936181   16.567837  1183.146703    21.527077       1.856674   \n",
      "min      0.000000    0.000000     3.000000     0.000000       0.000000   \n",
      "25%     14.000000    5.000000   251.000000     3.000000       0.000000   \n",
      "50%     35.000000   11.000000   747.000000    11.000000       1.000000   \n",
      "75%     69.000000   20.000000  1640.000000    21.000000       2.000000   \n",
      "max    355.000000  124.000000  8002.000000   128.000000      10.000000   \n",
      "\n",
      "         Settings  Submit Downgrade  Submit Upgrade  Thumbs Down   Thumbs Up  \\\n",
      "count  173.000000        173.000000      173.000000   173.000000  173.000000   \n",
      "mean     7.190751          0.312139        0.734104    11.849711   61.803468   \n",
      "std      7.481258          0.634037        0.769207    14.035274   70.416424   \n",
      "min      0.000000          0.000000        0.000000     0.000000    0.000000   \n",
      "25%      1.000000          0.000000        0.000000     2.000000   14.000000   \n",
      "50%      5.000000          0.000000        1.000000     8.000000   41.000000   \n",
      "75%     11.000000          0.000000        1.000000    17.000000   84.000000   \n",
      "max     52.000000          3.000000        4.000000    75.000000  437.000000   \n",
      "\n",
      "          Upgrade  \n",
      "count  173.000000  \n",
      "mean     2.236994  \n",
      "std      2.655932  \n",
      "min      0.000000  \n",
      "25%      1.000000  \n",
      "50%      1.000000  \n",
      "75%      3.000000  \n",
      "max     15.000000  \n",
      "\n",
      "\n",
      "The Stats for Churn value 1 are :\n",
      "           About  Add Friend  Add to Playlist  Cancel  \\\n",
      "count  52.000000   52.000000        52.000000    52.0   \n",
      "mean    1.076923   12.230769        19.961538     1.0   \n",
      "std     1.218262   11.157720        21.166901     0.0   \n",
      "min     0.000000    0.000000         0.000000     1.0   \n",
      "25%     0.000000    2.000000         3.750000     1.0   \n",
      "50%     1.000000   10.500000        12.000000     1.0   \n",
      "75%     2.000000   19.250000        30.000000     1.0   \n",
      "max     5.000000   47.000000        89.000000     1.0   \n",
      "\n",
      "       Cancellation Confirmation  Downgrade      Error       Help        Home  \\\n",
      "count                       52.0  52.000000  52.000000  52.000000   52.000000   \n",
      "mean                         1.0   6.480769   0.615385   4.596154   32.153846   \n",
      "std                          0.0   8.206861   0.843751   5.259015   29.368106   \n",
      "min                          1.0   0.000000   0.000000   0.000000    0.000000   \n",
      "25%                          1.0   0.000000   0.000000   1.000000   10.750000   \n",
      "50%                          1.0   4.000000   0.000000   3.000000   22.000000   \n",
      "75%                          1.0  10.000000   1.000000   6.250000   48.500000   \n",
      "max                          1.0  39.000000   3.000000  28.000000  129.000000   \n",
      "\n",
      "          Logout     NextSong  Roll Advert  Save Settings   Settings  \\\n",
      "count  52.000000    52.000000    52.000000      52.000000  52.000000   \n",
      "mean   10.634615   699.884615    18.596154       1.115385   5.192308   \n",
      "std     9.511662   714.737650    21.799676       1.231193   4.723900   \n",
      "min     0.000000     8.000000     0.000000       0.000000   0.000000   \n",
      "25%     3.000000   148.750000     3.000000       0.000000   1.000000   \n",
      "50%     7.000000   452.500000    11.000000       1.000000   4.500000   \n",
      "75%    17.250000   963.500000    27.000000       2.000000   7.000000   \n",
      "max    41.000000  3028.000000   115.000000       4.000000  19.000000   \n",
      "\n",
      "       Submit Downgrade  Submit Upgrade  Thumbs Down   Thumbs Up    Upgrade  \n",
      "count         52.000000       52.000000    52.000000   52.000000  52.000000  \n",
      "mean           0.173077        0.615385     9.538462   35.750000   2.153846  \n",
      "std            0.382005        0.599145     9.088803   39.697817   2.226266  \n",
      "min            0.000000        0.000000     0.000000    0.000000   0.000000  \n",
      "25%            0.000000        0.000000     2.000000    9.500000   0.000000  \n",
      "50%            0.000000        1.000000     7.000000   19.500000   1.000000  \n",
      "75%            0.000000        1.000000    15.250000   45.000000   4.000000  \n",
      "max            1.000000        2.000000    36.000000  163.000000   8.000000  \n"
     ]
    }
   ],
   "source": [
    "#some other stats\n",
    "print ('The Stats for Churn value 0 are :')\n",
    "print(plot_var[plot_var.Churn==0][columns].describe())\n",
    "print (\"\\n\")\n",
    "\n",
    "print ('The Stats for Churn value 1 are :')\n",
    "print(plot_var[plot_var.Churn==1][columns].describe())"
   ]
  },
  {
   "cell_type": "markdown",
   "metadata": {},
   "source": [
    "# Feature Engineering\n",
    "Once you've familiarized yourself with the data, build out the features you find promising to train your model on. To work with the full dataset, you can follow the following steps.\n",
    "- Write a script to extract the necessary features from the smaller subset of data\n",
    "- Ensure that your script is scalable, using the best practices discussed in Lesson 3\n",
    "- Try your script on the full data set, debugging your script if necessary\n",
    "\n",
    "If you are working in the classroom workspace, you can just extract features based on the small subset of data contained here. Be sure to transfer over this work to the larger dataset when you work on your Spark cluster."
   ]
  },
  {
   "cell_type": "code",
   "execution_count": 24,
   "metadata": {},
   "outputs": [
    {
     "name": "stdout",
     "output_type": "stream",
     "text": [
      "root\n",
      " |-- userId: string (nullable = true)\n",
      " |-- Churn: long (nullable = true)\n",
      " |-- About: long (nullable = true)\n",
      " |-- Add Friend: long (nullable = true)\n",
      " |-- Add to Playlist: long (nullable = true)\n",
      " |-- Downgrade: long (nullable = true)\n",
      " |-- Error: long (nullable = true)\n",
      " |-- Help: long (nullable = true)\n",
      " |-- Home: long (nullable = true)\n",
      " |-- Logout: long (nullable = true)\n",
      " |-- NextSong: long (nullable = true)\n",
      " |-- Roll Advert: long (nullable = true)\n",
      " |-- Save Settings: long (nullable = true)\n",
      " |-- Settings: long (nullable = true)\n",
      " |-- Submit Downgrade: long (nullable = true)\n",
      " |-- Submit Upgrade: long (nullable = true)\n",
      " |-- Thumbs Down: long (nullable = true)\n",
      " |-- Thumbs Up: long (nullable = true)\n",
      " |-- Upgrade: long (nullable = true)\n",
      "\n"
     ]
    }
   ],
   "source": [
    "#pivot feature : page\n",
    "df_page = df_cncl_Churn.groupby(['userId','Churn']).pivot('page').count().fillna(value=0)\n",
    "dropped_col = [\"Cancellation Confirmation\",\"cancel\"]\n",
    "df_page = df_page.drop(*dropped_col)\n",
    "df_page.printSchema()"
   ]
  },
  {
   "cell_type": "code",
   "execution_count": 25,
   "metadata": {},
   "outputs": [
    {
     "name": "stdout",
     "output_type": "stream",
     "text": [
      "+------+-----------------+\n",
      "|userId|UniqueArtistCount|\n",
      "+------+-----------------+\n",
      "|100010|              252|\n",
      "|200002|              339|\n",
      "|   125|                8|\n",
      "|   124|             2232|\n",
      "|    51|             1385|\n",
      "+------+-----------------+\n",
      "only showing top 5 rows\n",
      "\n"
     ]
    }
   ],
   "source": [
    "#Feature 1 : Unique Artist Count\n",
    "feat_1 = df_updated.select(\"userId\", \"artist\").groupby(\"userId\").agg(F.countDistinct(\"artist\").alias(\"UniqueArtistCount\"))\n",
    "\n",
    "feat_1.show(5)"
   ]
  },
  {
   "cell_type": "code",
   "execution_count": 26,
   "metadata": {},
   "outputs": [
    {
     "name": "stdout",
     "output_type": "stream",
     "text": [
      "+------+------+\n",
      "|userId|gender|\n",
      "+------+------+\n",
      "|    44|     0|\n",
      "|    46|     0|\n",
      "|    41|     0|\n",
      "|    72|     0|\n",
      "|300023|     0|\n",
      "+------+------+\n",
      "only showing top 5 rows\n",
      "\n"
     ]
    }
   ],
   "source": [
    "#Feature 2 : Gender\n",
    "feat_2 = df_updated.select(\"userId\", \"gender\").dropDuplicates()\n",
    "\n",
    "#flags to gender\n",
    "gen_call = udf(lambda x: 1 if x == 'M' else 0, IntegerType())\n",
    "feat_2 = feat_2.withColumn(\"gender\", gen_call(\"gender\"))\n",
    "\n",
    "feat_2.show(5)"
   ]
  },
  {
   "cell_type": "code",
   "execution_count": 27,
   "metadata": {},
   "outputs": [
    {
     "name": "stdout",
     "output_type": "stream",
     "text": [
      "+------+---------------+\n",
      "|userId|UniqueSongCount|\n",
      "+------+---------------+\n",
      "|100010|            269|\n",
      "|200002|            378|\n",
      "|   125|              8|\n",
      "|    51|           1854|\n",
      "|   124|           3339|\n",
      "+------+---------------+\n",
      "only showing top 5 rows\n",
      "\n"
     ]
    }
   ],
   "source": [
    "#Feature 3 : Number of unique songs listened\n",
    "feat_3 = df_updated.select(\"userId\", \"song\").groupby(\"userId\").agg(F.countDistinct(\"song\").alias(\"UniqueSongCount\"))\n",
    "\n",
    "feat_3.show(5)"
   ]
  },
  {
   "cell_type": "code",
   "execution_count": 28,
   "metadata": {},
   "outputs": [
    {
     "name": "stdout",
     "output_type": "stream",
     "text": [
      "+------+-----------+\n",
      "|userID|totalevents|\n",
      "+------+-----------+\n",
      "|100010|        381|\n",
      "|200002|        474|\n",
      "|   125|         11|\n",
      "|    51|       2464|\n",
      "|   124|       4825|\n",
      "+------+-----------+\n",
      "only showing top 5 rows\n",
      "\n"
     ]
    }
   ],
   "source": [
    "#Feature 4 : Total number of events\n",
    "feat_4 = df_updated.groupby(['userID']).count().withColumnRenamed((\"count\"), (\"totalevents\"))\n",
    "\n",
    "feat_4.show(5)"
   ]
  },
  {
   "cell_type": "code",
   "execution_count": 29,
   "metadata": {},
   "outputs": [
    {
     "name": "stdout",
     "output_type": "stream",
     "text": [
      "+------+------------------+\n",
      "|userId|      tot_lifetime|\n",
      "+------+------------------+\n",
      "|100010|  55.6436574074074|\n",
      "|200002| 70.07462962962963|\n",
      "|   125| 71.31688657407408|\n",
      "|    51|19.455844907407407|\n",
      "|   124|131.55591435185184|\n",
      "+------+------------------+\n",
      "only showing top 5 rows\n",
      "\n"
     ]
    }
   ],
   "source": [
    "#Feature 5 : Total time since registration\n",
    "feat_5 = df_updated.select('userId', 'registration', 'ts').withColumn('tot_lifetime', (df_updated.ts - df_updated.registration))\\\n",
    "    .groupBy('userId').agg({'tot_lifetime' : 'max'})\\\n",
    "    .withColumnRenamed('max(tot_lifetime)', 'tot_lifetime')\\\n",
    "    .select('userId', (col('tot_lifetime')/1000/3600/24).alias('tot_lifetime'))\n",
    "\n",
    "feat_5.show(5)"
   ]
  },
  {
   "cell_type": "code",
   "execution_count": 30,
   "metadata": {},
   "outputs": [
    {
     "name": "stdout",
     "output_type": "stream",
     "text": [
      "+------+-----------------+\n",
      "|userId|tot_artist_played|\n",
      "+------+-----------------+\n",
      "|200002|              339|\n",
      "|100010|              252|\n",
      "|   125|                8|\n",
      "|   124|             2232|\n",
      "|    51|             1385|\n",
      "+------+-----------------+\n",
      "only showing top 5 rows\n",
      "\n"
     ]
    }
   ],
   "source": [
    "#Feature 6 : Total number of artists the user has listened to\n",
    "feat_6 = df_updated.filter(df_updated.page == \"NextSong\").select(\"userId\", \"artist\").dropDuplicates().groupby(\"userId\").count()\\\n",
    "         .withColumnRenamed(\"count\", \"tot_artist_played\")\n",
    "\n",
    "feat_6.show(5)"
   ]
  },
  {
   "cell_type": "markdown",
   "metadata": {},
   "source": [
    "all the above codes can be written as one function; below function performs all the task what we did above. Above code are written the output of their operation."
   ]
  },
  {
   "cell_type": "code",
   "execution_count": 31,
   "metadata": {},
   "outputs": [],
   "source": [
    "def feature_eng(df):\n",
    "    \n",
    "    \"\"\"\n",
    "    Engineering new features from df\n",
    "    \n",
    "    input: cleaned data frame\n",
    "    output: final data frame for modeling\n",
    "    \n",
    "    \"\"\"    \n",
    " \n",
    "\n",
    "    # Adding all the processes done above into a function\n",
    "    cancel_event = udf(lambda x: 1 if x == \"Cancellation Confirmation\" else 0, IntegerType())\n",
    "    window_value = Window.partitionBy(\"userId\").rangeBetween(Window.unboundedPreceding, Window.unboundedFollowing)\n",
    "    df_cncl_Churn = df.withColumn(\"label\", cancel_event(\"page\"))# we call label instead of churn\n",
    "    df_cncl_Churn = df_cncl_Churn.withColumn(\"label\", Fsum(\"label\").over(window_value)) \n",
    "    \n",
    "    #feature Page\n",
    "    df_page=df_cncl_Churn.groupby(['userId','label']).pivot('page').count().fillna(value=0)\n",
    "    dropped_col = [\"Cancellation Confirmation\",\"cancel\"]\n",
    "    df_page = df_page.drop(*dropped_col)\n",
    "    \n",
    "    #feature Unique Artist Count\n",
    "    feat_1=df_updated.select(\"userId\", \"artist\").groupby(\"userId\").agg(F.countDistinct(\"artist\").alias(\"UniqueArtistCount\"))\n",
    "    \n",
    "    #feature Gender\n",
    "    gen_call = udf(lambda x: 1 if x == 'M' else 0, IntegerType())\n",
    "    feat_2= df_updated.select(\"userId\", \"gender\").dropDuplicates()\n",
    "    feat_2 = feat_2.withColumn(\"gender\", gen_call(\"gender\"))\n",
    "    \n",
    "    #feature Number of unique songs\n",
    "    feat_3 = df_updated.select(\"userId\", \"song\").groupby(\"userId\").agg(F.countDistinct(\"song\").alias(\"UniqueSongCount\"))\n",
    "    \n",
    "    #feature Total number of events\n",
    "    feat_4 = df_updated.groupby(['userID']).count().withColumnRenamed((\"count\"), (\"totalevents\"))\n",
    "    \n",
    "    # Feature 6 : Total time since registration\n",
    "    feat_5 = df_updated.select('userId', 'registration', 'ts').withColumn('tot_lifetime', (df_updated.ts - df_updated.registration))\\\n",
    "            .groupBy('userId').agg({'tot_lifetime' : 'max'})\\\n",
    "            .withColumnRenamed('max(tot_lifetime)', 'tot_lifetime')\\\n",
    "            .select('userId', (col('tot_lifetime')/1000/3600/24).alias('tot_lifetime'))\n",
    "    \n",
    "    #Feature 7 : Total number of artists the user has listened to\n",
    "    feat_6 = df_updated.filter(df_updated.page == \"NextSong\").select(\"userId\", \"artist\").dropDuplicates().groupby(\"userId\").count()\\\n",
    "             .withColumnRenamed(\"count\", \"tot_artist_played\")\n",
    "     \n",
    "    # Creating a combined dataframe\n",
    "    df_combined = df_page.join(feat_1, 'userId', 'inner')\n",
    "    df_combined = df_combined.join(feat_2, 'userId', 'inner')     \n",
    "    df_combined = df_combined.join(feat_3, 'userId', 'inner')\n",
    "    df_combined = df_combined.join(feat_4, 'userId', 'inner')\n",
    "    df_combined = df_combined.join(feat_5, 'userId', 'inner')\n",
    "    df_combined = df_combined.join(feat_6, 'userId', 'inner')\n",
    "        \n",
    "    return df_combined"
   ]
  },
  {
   "cell_type": "code",
   "execution_count": 32,
   "metadata": {},
   "outputs": [],
   "source": [
    "final_data= feature_eng(df_updated)"
   ]
  },
  {
   "cell_type": "code",
   "execution_count": 33,
   "metadata": {},
   "outputs": [
    {
     "name": "stdout",
     "output_type": "stream",
     "text": [
      "+------+-----+-----+----------+---------------+---------+-----+----+----+------+--------+-----------+-------------+--------+----------------+--------------+-----------+---------+-------+-----------------+------+---------------+-----------+------------------+-----------------+\n",
      "|userId|label|About|Add Friend|Add to Playlist|Downgrade|Error|Help|Home|Logout|NextSong|Roll Advert|Save Settings|Settings|Submit Downgrade|Submit Upgrade|Thumbs Down|Thumbs Up|Upgrade|UniqueArtistCount|gender|UniqueSongCount|totalevents|      tot_lifetime|tot_artist_played|\n",
      "+------+-----+-----+----------+---------------+---------+-----+----+----+------+--------+-----------+-------------+--------+----------------+--------------+-----------+---------+-------+-----------------+------+---------------+-----------+------------------+-----------------+\n",
      "|100010|    0|    1|         4|              7|        0|    0|   2|  11|     5|     275|         52|            0|       0|               0|             0|          5|       17|      2|              252|     0|            269|        381|  55.6436574074074|              252|\n",
      "|200002|    0|    3|         4|              8|        5|    0|   2|  20|     5|     387|          7|            0|       3|               0|             1|          6|       21|      2|              339|     1|            378|        474| 70.07462962962963|              339|\n",
      "|   125|    1|    0|         0|              0|        0|    0|   0|   0|     0|       8|          1|            0|       0|               0|             0|          0|        0|      0|                8|     1|              8|         11| 71.31688657407408|                8|\n",
      "|   124|    0|    7|        74|            118|       41|    6|  23| 176|    59|    4079|          4|            6|      20|               0|             0|         41|      171|      0|             2232|     0|           3339|       4825|131.55591435185184|             2232|\n",
      "|    51|    1|    2|        28|             52|       23|    1|  12|  75|    24|    2111|          0|            1|      12|               0|             0|         21|      100|      0|             1385|     1|           1854|       2464|19.455844907407407|             1385|\n",
      "+------+-----+-----+----------+---------------+---------+-----+----+----+------+--------+-----------+-------------+--------+----------------+--------------+-----------+---------+-------+-----------------+------+---------------+-----------+------------------+-----------------+\n",
      "only showing top 5 rows\n",
      "\n"
     ]
    }
   ],
   "source": [
    "final_data.show(5)"
   ]
  },
  {
   "cell_type": "code",
   "execution_count": 34,
   "metadata": {},
   "outputs": [
    {
     "data": {
      "text/plain": [
       "About                0\n",
       "Add Friend           0\n",
       "Add to Playlist      0\n",
       "Downgrade            0\n",
       "Error                0\n",
       "Help                 0\n",
       "Home                 0\n",
       "Logout               0\n",
       "NextSong             0\n",
       "Roll Advert          0\n",
       "Save Settings        0\n",
       "Settings             0\n",
       "Submit Downgrade     0\n",
       "Submit Upgrade       0\n",
       "Thumbs Down          0\n",
       "Thumbs Up            0\n",
       "Upgrade              0\n",
       "UniqueArtistCount    0\n",
       "gender               0\n",
       "UniqueSongCount      0\n",
       "totalevents          0\n",
       "tot_lifetime         0\n",
       "tot_artist_played    0\n",
       "dtype: int64"
      ]
     },
     "execution_count": 34,
     "metadata": {},
     "output_type": "execute_result"
    }
   ],
   "source": [
    "# checking for any null values\n",
    "columns_del = ['userId', 'label']\n",
    "df_feature= final_data.toPandas().drop(columns_del, axis=1)\n",
    "df_feature.isnull().sum()"
   ]
  },
  {
   "cell_type": "code",
   "execution_count": 35,
   "metadata": {},
   "outputs": [
    {
     "data": {
      "text/plain": [
       "[Row(userId='100010', label=0, About=1, Add Friend=4, Add to Playlist=7, Downgrade=0, Error=0, Help=2, Home=11, Logout=5, NextSong=275, Roll Advert=52, Save Settings=0, Settings=0, Submit Downgrade=0, Submit Upgrade=0, Thumbs Down=5, Thumbs Up=17, Upgrade=2, UniqueArtistCount=252, gender=0, UniqueSongCount=269, totalevents=381, tot_lifetime=55.6436574074074, tot_artist_played=252, NumFeatures=DenseVector([1.0, 4.0, 7.0, 0.0, 0.0, 2.0, 11.0, 5.0, 275.0, 52.0, 0.0, 0.0, 0.0, 0.0, 5.0, 17.0, 2.0, 252.0, 0.0, 269.0, 381.0, 55.6437, 252.0])),\n",
       " Row(userId='200002', label=0, About=3, Add Friend=4, Add to Playlist=8, Downgrade=5, Error=0, Help=2, Home=20, Logout=5, NextSong=387, Roll Advert=7, Save Settings=0, Settings=3, Submit Downgrade=0, Submit Upgrade=1, Thumbs Down=6, Thumbs Up=21, Upgrade=2, UniqueArtistCount=339, gender=1, UniqueSongCount=378, totalevents=474, tot_lifetime=70.07462962962963, tot_artist_played=339, NumFeatures=DenseVector([3.0, 4.0, 8.0, 5.0, 0.0, 2.0, 20.0, 5.0, 387.0, 7.0, 0.0, 3.0, 0.0, 1.0, 6.0, 21.0, 2.0, 339.0, 1.0, 378.0, 474.0, 70.0746, 339.0])),\n",
       " Row(userId='125', label=1, About=0, Add Friend=0, Add to Playlist=0, Downgrade=0, Error=0, Help=0, Home=0, Logout=0, NextSong=8, Roll Advert=1, Save Settings=0, Settings=0, Submit Downgrade=0, Submit Upgrade=0, Thumbs Down=0, Thumbs Up=0, Upgrade=0, UniqueArtistCount=8, gender=1, UniqueSongCount=8, totalevents=11, tot_lifetime=71.31688657407408, tot_artist_played=8, NumFeatures=SparseVector(23, {8: 8.0, 9: 1.0, 17: 8.0, 18: 1.0, 19: 8.0, 20: 11.0, 21: 71.3169, 22: 8.0})),\n",
       " Row(userId='124', label=0, About=7, Add Friend=74, Add to Playlist=118, Downgrade=41, Error=6, Help=23, Home=176, Logout=59, NextSong=4079, Roll Advert=4, Save Settings=6, Settings=20, Submit Downgrade=0, Submit Upgrade=0, Thumbs Down=41, Thumbs Up=171, Upgrade=0, UniqueArtistCount=2232, gender=0, UniqueSongCount=3339, totalevents=4825, tot_lifetime=131.55591435185184, tot_artist_played=2232, NumFeatures=DenseVector([7.0, 74.0, 118.0, 41.0, 6.0, 23.0, 176.0, 59.0, 4079.0, 4.0, 6.0, 20.0, 0.0, 0.0, 41.0, 171.0, 0.0, 2232.0, 0.0, 3339.0, 4825.0, 131.5559, 2232.0])),\n",
       " Row(userId='51', label=1, About=2, Add Friend=28, Add to Playlist=52, Downgrade=23, Error=1, Help=12, Home=75, Logout=24, NextSong=2111, Roll Advert=0, Save Settings=1, Settings=12, Submit Downgrade=0, Submit Upgrade=0, Thumbs Down=21, Thumbs Up=100, Upgrade=0, UniqueArtistCount=1385, gender=1, UniqueSongCount=1854, totalevents=2464, tot_lifetime=19.455844907407407, tot_artist_played=1385, NumFeatures=DenseVector([2.0, 28.0, 52.0, 23.0, 1.0, 12.0, 75.0, 24.0, 2111.0, 0.0, 1.0, 12.0, 0.0, 0.0, 21.0, 100.0, 0.0, 1385.0, 1.0, 1854.0, 2464.0, 19.4558, 1385.0])),\n",
       " Row(userId='7', label=0, About=0, Add Friend=1, Add to Playlist=5, Downgrade=0, Error=1, Help=1, Home=10, Logout=3, NextSong=150, Roll Advert=16, Save Settings=1, Settings=3, Submit Downgrade=0, Submit Upgrade=0, Thumbs Down=1, Thumbs Up=7, Upgrade=2, UniqueArtistCount=142, gender=1, UniqueSongCount=148, totalevents=201, tot_lifetime=72.77818287037037, tot_artist_played=142, NumFeatures=DenseVector([0.0, 1.0, 5.0, 0.0, 1.0, 1.0, 10.0, 3.0, 150.0, 16.0, 1.0, 3.0, 0.0, 0.0, 1.0, 7.0, 2.0, 142.0, 1.0, 148.0, 201.0, 72.7782, 142.0])),\n",
       " Row(userId='15', label=0, About=2, Add Friend=31, Add to Playlist=59, Downgrade=28, Error=2, Help=8, Home=93, Logout=27, NextSong=1914, Roll Advert=1, Save Settings=2, Settings=16, Submit Downgrade=0, Submit Upgrade=0, Thumbs Down=14, Thumbs Up=81, Upgrade=0, UniqueArtistCount=1302, gender=1, UniqueSongCount=1707, totalevents=2278, tot_lifetime=56.513576388888886, tot_artist_played=1302, NumFeatures=DenseVector([2.0, 31.0, 59.0, 28.0, 2.0, 8.0, 93.0, 27.0, 1914.0, 1.0, 2.0, 16.0, 0.0, 0.0, 14.0, 81.0, 0.0, 1302.0, 1.0, 1707.0, 2278.0, 56.5136, 1302.0])),\n",
       " Row(userId='54', label=1, About=5, Add Friend=33, Add to Playlist=72, Downgrade=39, Error=1, Help=17, Home=129, Logout=36, NextSong=2841, Roll Advert=47, Save Settings=3, Settings=17, Submit Downgrade=1, Submit Upgrade=1, Thumbs Down=29, Thumbs Up=163, Upgrade=1, UniqueArtistCount=1744, gender=0, UniqueSongCount=2414, totalevents=3437, tot_lifetime=110.75168981481481, tot_artist_played=1744, NumFeatures=DenseVector([5.0, 33.0, 72.0, 39.0, 1.0, 17.0, 129.0, 36.0, 2841.0, 47.0, 3.0, 17.0, 1.0, 1.0, 29.0, 163.0, 1.0, 1744.0, 0.0, 2414.0, 3437.0, 110.7517, 1744.0])),\n",
       " Row(userId='155', label=0, About=2, Add Friend=11, Add to Playlist=24, Downgrade=12, Error=3, Help=9, Home=30, Logout=14, NextSong=820, Roll Advert=8, Save Settings=0, Settings=5, Submit Downgrade=0, Submit Upgrade=1, Thumbs Down=3, Thumbs Up=58, Upgrade=2, UniqueArtistCount=643, gender=0, UniqueSongCount=759, totalevents=1002, tot_lifetime=23.556018518518517, tot_artist_played=643, NumFeatures=DenseVector([2.0, 11.0, 24.0, 12.0, 3.0, 9.0, 30.0, 14.0, 820.0, 8.0, 0.0, 5.0, 0.0, 1.0, 3.0, 58.0, 2.0, 643.0, 0.0, 759.0, 1002.0, 23.556, 643.0])),\n",
       " Row(userId='100014', label=1, About=0, Add Friend=6, Add to Playlist=7, Downgrade=3, Error=0, Help=2, Home=7, Logout=3, NextSong=257, Roll Advert=2, Save Settings=0, Settings=1, Submit Downgrade=0, Submit Upgrade=0, Thumbs Down=3, Thumbs Up=17, Upgrade=0, UniqueArtistCount=233, gender=1, UniqueSongCount=248, totalevents=310, tot_lifetime=85.08340277777778, tot_artist_played=233, NumFeatures=DenseVector([0.0, 6.0, 7.0, 3.0, 0.0, 2.0, 7.0, 3.0, 257.0, 2.0, 0.0, 1.0, 0.0, 0.0, 3.0, 17.0, 0.0, 233.0, 1.0, 248.0, 310.0, 85.0834, 233.0]))]"
      ]
     },
     "execution_count": 35,
     "metadata": {},
     "output_type": "execute_result"
    }
   ],
   "source": [
    "#vectorizing all features\n",
    "cols = final_data.columns\n",
    "cols = [i for i in cols if i not in ('userId', 'label')]\n",
    "\n",
    "assembler = VectorAssembler(inputCols=cols, outputCol=\"NumFeatures\")\n",
    "vect_data = assembler.transform(final_data)\n",
    "\n",
    "vect_data.head(10)"
   ]
  },
  {
   "cell_type": "code",
   "execution_count": 36,
   "metadata": {},
   "outputs": [],
   "source": [
    "#Standardizing all input features i.e. Scaler all features\n",
    "scaler = Normalizer(inputCol=\"NumFeatures\", outputCol=\"features\")\n",
    "scaled_data = scaler.transform(vect_data)"
   ]
  },
  {
   "cell_type": "code",
   "execution_count": 37,
   "metadata": {},
   "outputs": [
    {
     "name": "stdout",
     "output_type": "stream",
     "text": [
      "+-----+--------------------+\n",
      "|label|            features|\n",
      "+-----+--------------------+\n",
      "|    0|[0.00153124954460...|\n",
      "|    0|[0.00345681437224...|\n",
      "|    1|(23,[8,9,17,18,19...|\n",
      "|    0|[8.95258757660716...|\n",
      "|    1|[4.73743274981536...|\n",
      "|    0|[0.0,0.0027640802...|\n",
      "|    0|[5.13296134755204...|\n",
      "|    1|[8.85782332474354...|\n",
      "|    0|[0.00113860144978...|\n",
      "|    1|[0.0,0.0102909717...|\n",
      "|    0|[0.00102002229760...|\n",
      "|    0|(23,[1,2,5,6,7,8,...|\n",
      "|    1|[5.43622645237984...|\n",
      "|    0|[0.00482083964806...|\n",
      "|    0|[0.00193100231648...|\n",
      "|    0|[4.21791326520506...|\n",
      "|    1|[0.00183477244572...|\n",
      "|    1|[3.36720695497486...|\n",
      "|    0|[0.00126204119761...|\n",
      "|    0|[0.00195876817714...|\n",
      "+-----+--------------------+\n",
      "only showing top 20 rows\n",
      "\n"
     ]
    }
   ],
   "source": [
    "#Now we have our data to train a machine learning model\n",
    "scaled_data = scaled_data.select([\"label\",\"features\"])\n",
    "\n",
    "scaled_data.show()"
   ]
  },
  {
   "cell_type": "markdown",
   "metadata": {},
   "source": [
    "# Modeling\n",
    "Split the full dataset into train, test, and validation sets. Test out several of the machine learning methods you learned. Evaluate the accuracy of the various models, tuning parameters as necessary. Determine your winning model based on test accuracy and report results on the validation set. Since the churned users are a fairly small subset, I suggest using F1 score as the metric to optimize."
   ]
  },
  {
   "cell_type": "code",
   "execution_count": 38,
   "metadata": {},
   "outputs": [],
   "source": [
    "#split the data in train and test data\n",
    "train, test = scaled_data.randomSplit([0.85, 0.15], seed=42)"
   ]
  },
  {
   "cell_type": "code",
   "execution_count": 42,
   "metadata": {},
   "outputs": [
    {
     "name": "stdout",
     "output_type": "stream",
     "text": [
      "1601564700.749827\n",
      "Total time taken in training and prediction in seconds:  295.40548968315125\n",
      "F1 Score for Random Forest Classifier is 0.6435087719298245\n",
      "The accuracy for Random Forest Classifier is 0.68\n"
     ]
    }
   ],
   "source": [
    "#method Random Forest Classifier\n",
    "rf_method = RandomForestClassifier()\n",
    "\n",
    "start_time_rf = time.time()\n",
    "print(start_time_rf)\n",
    "\n",
    "#training\n",
    "rf_model = rf_method.fit(train)\n",
    "\n",
    "#prediction\n",
    "rf_result = rf_model.transform(test)\n",
    "\n",
    "print('Total time taken in training and prediction in seconds: ', (time.time() - start_time_rf))\n",
    "\n",
    "f1 = MulticlassClassificationEvaluator(metricName='f1').evaluate(rf_result.select(col('label'), col('prediction')))\n",
    "accuracy = MulticlassClassificationEvaluator(metricName='accuracy').evaluate(rf_result.select(col('label'), col('prediction')))\n",
    "    \n",
    "print(\"F1 Score for Random Forest Classifier is {}\".format(f1))\n",
    "print(\"The accuracy for Random Forest Classifier is {}\".format(accuracy))"
   ]
  },
  {
   "cell_type": "code",
   "execution_count": 40,
   "metadata": {},
   "outputs": [
    {
     "name": "stdout",
     "output_type": "stream",
     "text": [
      "Total time taken in training and prediction in seconds:  130.5927119255066\n",
      "F1 Score for Logistic Regression is 0.6743123543123543\n",
      "The accuracy for Logistic Regression is 0.72\n"
     ]
    }
   ],
   "source": [
    "#method Logistic Regression\n",
    "lr_method = LogisticRegression()\n",
    "\n",
    "start_time_lr = time.time()\n",
    "print(start_time_lr)\n",
    "\n",
    "#training\n",
    "lr_model = lr_method.fit(train)\n",
    "\n",
    "#prediction\n",
    "lr_result = lr_model.transform(test)\n",
    "\n",
    "print('Total time taken in training and prediction in seconds: ', (time.time() - start_time_lr))\n",
    "\n",
    "f1 = MulticlassClassificationEvaluator(metricName='f1').evaluate(lr_result.select(col('label'), col('prediction')))\n",
    "accuracy = MulticlassClassificationEvaluator(metricName='accuracy').evaluate(lr_result.select(col('label'), col('prediction')))\n",
    "    \n",
    "print(\"F1 Score for Logistic Regression is {}\".format(f1))\n",
    "print(\"The accuracy for Logistic Regression is {}\".format(accuracy))"
   ]
  },
  {
   "cell_type": "code",
   "execution_count": 43,
   "metadata": {},
   "outputs": [
    {
     "name": "stdout",
     "output_type": "stream",
     "text": [
      "1601566098.7404945\n",
      "Total time taken in training and prediction in seconds:  449.2180905342102\n",
      "F1 Score for Gradient Boosted Trees is 0.613056133056133\n",
      "The accuracy for Gradient Boosted Trees is 0.64\n"
     ]
    }
   ],
   "source": [
    "# method Gradient Boosted Trees\n",
    "gbt_method = GBTClassifier()\n",
    "\n",
    "start_time_gbt = time.time()\n",
    "print(start_time_gbt)\n",
    "\n",
    "#training\n",
    "gbt_model = gbt_method.fit(train)\n",
    "\n",
    "#prediction\n",
    "gbt_result = gbt_model.transform(test)\n",
    "\n",
    "print('Total time taken in training and prediction in seconds: ', (time.time() - start_time_gbt))\n",
    "\n",
    "f1 = MulticlassClassificationEvaluator(metricName='f1').evaluate(gbt_result.select(col('label'), col('prediction')))\n",
    "accuracy = MulticlassClassificationEvaluator(metricName='accuracy').evaluate(gbt_result.select(col('label'), col('prediction')))\n",
    "    \n",
    "print(\"F1 Score for Gradient Boosted Trees is {}\".format(f1))\n",
    "print(\"The accuracy for Gradient Boosted Trees is {}\".format(accuracy))"
   ]
  },
  {
   "cell_type": "markdown",
   "metadata": {},
   "source": [
    "In above results from 3 different methods we could see that the f1-score and accuracy of Logistic Regression method is better compared to other 2. But it took a lot of computation time than others. It will be more if the size of dataset is larger.\n",
    "\n",
    "Logistic Regression took more computation time compared to others but its accuracy and f1-socre is competitive. So we will proceed with LR and will try to tune this model.\n"
   ]
  },
  {
   "cell_type": "markdown",
   "metadata": {},
   "source": [
    "## Tuning"
   ]
  },
  {
   "cell_type": "code",
   "execution_count": 51,
   "metadata": {},
   "outputs": [
    {
     "name": "stderr",
     "output_type": "stream",
     "text": [
      "Exception ignored in: <object repr() failed>\n",
      "Traceback (most recent call last):\n",
      "  File \"/opt/spark-2.4.3-bin-hadoop2.7/python/pyspark/ml/wrapper.py\", line 40, in __del__\n",
      "    if SparkContext._active_spark_context and self._java_obj is not None:\n",
      "AttributeError: 'LogisticRegression' object has no attribute '_java_obj'\n"
     ]
    },
    {
     "name": "stdout",
     "output_type": "stream",
     "text": [
      "total time in Training and Predicting:  6516.405846834183\n"
     ]
    }
   ],
   "source": [
    "#tuning Logistic regression model\n",
    "model_lr = LogisticRegression(maxIter=50)\n",
    "paramGrid = ParamGridBuilder().addGrid(model_lr.elasticNetParam,[0.1, 0.55, 1]).\\\n",
    "                                addGrid(model_lr.regParam,[0.01, 0.05, 0.1]).build()\n",
    "\n",
    "lr_evals = MulticlassClassificationEvaluator(metricName='f1')\n",
    "\n",
    "model_lr_output = CrossValidator(estimator=model_lr, estimatorParamMaps=paramGrid, evaluator=lr_evals,\n",
    "                                 numFolds=3)\n",
    "#start training time\n",
    "start = time.time()\n",
    "\n",
    "#training the model\n",
    "tuned_LR = model_lr_output.fit(train)\n",
    "\n",
    "#prediction\n",
    "final_LR = tuned_LR.transform(test)\n",
    "\n",
    "#end time\n",
    "end = time.time()\n",
    "\n",
    "print('total time in Training and Predicting: ', (end - start))"
   ]
  },
  {
   "cell_type": "code",
   "execution_count": 52,
   "metadata": {},
   "outputs": [
    {
     "name": "stdout",
     "output_type": "stream",
     "text": [
      "The accuracy for tuned Logistic regression is 0.72\n",
      "The F-1 Score for tuned Logistic regression is 0.6743123543123543\n"
     ]
    }
   ],
   "source": [
    "#evaluation metrics for tuned Logical regression\n",
    "eval_metrics_lr = MulticlassClassificationEvaluator(predictionCol = \"prediction\")\n",
    "\n",
    "#The metrics for tuned Logistic regression\n",
    "print(\"The accuracy for tuned Logistic regression is {}\".format(eval_metrics_lr.evaluate(final_LR, \n",
    "                                                        {eval_metrics_lr.metricName : \"accuracy\"})))\n",
    "print(\"The F-1 Score for tuned Logistic regression is {}\".format(eval_metrics_lr.evaluate(final_LR, \n",
    "                                                        {eval_metrics_lr.metricName : \"f1\"})))"
   ]
  },
  {
   "cell_type": "markdown",
   "metadata": {},
   "source": [
    "# Final Steps\n",
    "Clean up your code, adding comments and renaming variables to make the code easier to read and maintain. Refer to the Spark Project Overview page and Data Scientist Capstone Project Rubric to make sure you are including all components of the capstone project and meet all expectations. Remember, this includes thorough documentation in a README file in a Github repository, as well as a web app or blog post."
   ]
  },
  {
   "cell_type": "code",
   "execution_count": 53,
   "metadata": {},
   "outputs": [
    {
     "data": {
      "text/plain": [
       "['[NbConvertApp] Converting notebook Sparkify.ipynb to html',\n",
       " '[NbConvertApp] Writing 548315 bytes to Sparkify.html',\n",
       " '[NbConvertApp] Converting notebook Sparkify-zh.ipynb to html',\n",
       " '[NbConvertApp] Writing 279513 bytes to Sparkify-zh.html']"
      ]
     },
     "execution_count": 53,
     "metadata": {},
     "output_type": "execute_result"
    }
   ],
   "source": [
    "!!jupyter nbconvert *.ipynb"
   ]
  },
  {
   "cell_type": "code",
   "execution_count": null,
   "metadata": {},
   "outputs": [],
   "source": []
  }
 ],
 "metadata": {
  "kernelspec": {
   "display_name": "Python 3",
   "language": "python",
   "name": "python3"
  },
  "language_info": {
   "codemirror_mode": {
    "name": "ipython",
    "version": 3
   },
   "file_extension": ".py",
   "mimetype": "text/x-python",
   "name": "python",
   "nbconvert_exporter": "python",
   "pygments_lexer": "ipython3",
   "version": "3.6.3"
  }
 },
 "nbformat": 4,
 "nbformat_minor": 2
}
